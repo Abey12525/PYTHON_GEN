{
  "nbformat": 4,
  "nbformat_minor": 0,
  "metadata": {
    "colab": {
      "name": "Kmnist.ipynb",
      "version": "0.3.2",
      "provenance": [],
      "include_colab_link": true
    },
    "kernelspec": {
      "name": "python3",
      "display_name": "Python 3"
    },
    "accelerator": "GPU"
  },
  "cells": [
    {
      "cell_type": "markdown",
      "metadata": {
        "id": "view-in-github",
        "colab_type": "text"
      },
      "source": [
        "[View in Colaboratory](https://colab.research.google.com/github/Abey12525/PYTHON_GEN/blob/master/Kmnist.ipynb)"
      ]
    },
    {
      "metadata": {
        "id": "_DAHbOJj_8-9",
        "colab_type": "code",
        "colab": {}
      },
      "cell_type": "code",
      "source": [
        "import tensorflow as tf\n",
        "import numpy as np\n",
        "import pandas as pd\n",
        "import matplotlib.pyplot as plt\n",
        "%matplotlib inline\n",
        "import os\n",
        "from sklearn.preprocessing import LabelEncoder\n",
        "from sklearn.preprocessing import OneHotEncoder\n",
        "os.environ[\"CUDA_VISIBLE_DEVICES\"]=\"0\""
      ],
      "execution_count": 0,
      "outputs": []
    },
    {
      "metadata": {
        "id": "GyqEWTRQACQe",
        "colab_type": "code",
        "colab": {
          "base_uri": "https://localhost:8080/",
          "height": 101
        },
        "outputId": "d6f36f6e-5706-4f84-8b9c-784ed0b0733d"
      },
      "cell_type": "code",
      "source": [
        "#loading data \n",
        "data = tf.keras.datasets.mnist\n",
        "(train_x, train_y),(test_x,test_y) = data.load_data()\n",
        "enc = OneHotEncoder()\n",
        "#data before conversion\n",
        "print(\"test : {}\".format(test_y[0]))\n",
        "print(\"train : {}\".format(train_y[0]))\n",
        "test_y = test_y.reshape(-1,1)\n",
        "train_y = train_y.reshape(-1,1)\n",
        "#converting scalar value to one-hot encoding\n",
        "enc.fit(train_y)\n",
        "train_y = enc.transform(train_y).toarray()\n",
        "enc.fit(test_y)\n",
        "test_y = enc.transform(test_y).toarray()\n",
        "#after conversion\n",
        "print(\"test : {}\".format(test_y[0]))\n",
        "print(\"train : {}\".format(train_y[0]))\n",
        "print(\"shape = {}\".format(train_y.shape))\n"
      ],
      "execution_count": 2,
      "outputs": [
        {
          "output_type": "stream",
          "text": [
            "test : 7\n",
            "train : 5\n",
            "test : [0. 0. 0. 0. 0. 0. 0. 1. 0. 0.]\n",
            "train : [0. 0. 0. 0. 0. 1. 0. 0. 0. 0.]\n",
            "shape = (60000, 10)\n"
          ],
          "name": "stdout"
        }
      ]
    },
    {
      "metadata": {
        "id": "-CROLvviAFh0",
        "colab_type": "code",
        "colab": {
          "base_uri": "https://localhost:8080/",
          "height": 315
        },
        "outputId": "da4d0610-996f-4a08-db03-b06056d246d5"
      },
      "cell_type": "code",
      "source": [
        "def figsub(imgarr,labarr):\n",
        "  fig = plt.figure(figsize=(6,6))\n",
        "  columns = 4\n",
        "  rows = 2\n",
        "  for i in range(1,columns*rows+1):\n",
        "    img = imgarr[i]\n",
        "    img = np.array(img)\n",
        "    img = img.reshape((28,28))\n",
        "    fig.add_subplot(rows,columns,i)\n",
        "    plt.imshow(img,cmap='gray')\n",
        "    plt.xlabel(\"Label : {}\".format(np.argmax(labarr[i],axis=0)))\n",
        "\n",
        "    \n",
        "def figsubpre(imgarr,labarr,pre):\n",
        "  fig = plt.figure(figsize=(8,8))\n",
        "  columns = 4\n",
        "  rows = 2\n",
        "  for i in range(1,columns*rows+1):\n",
        "    img = imgarr[i]\n",
        "    img = np.array(img)\n",
        "    img = img.reshape((28,28))\n",
        "    fig.add_subplot(rows,columns,i)\n",
        "    plt.imshow(img,cmap='gray')\n",
        "    plt.xlabel(\"Label : {} Prediction : {}\".format(np.argmax(labarr[i],axis=0),pre[i]))\n",
        "    \n",
        "figsub(train_x,train_y)"
      ],
      "execution_count": 13,
      "outputs": [
        {
          "output_type": "display_data",
          "data": {
            "image/png": "[encoded data removed]",
            "text/plain": [
              "<matplotlib.figure.Figure at 0x7f957b6c7518>"
            ]
          },
          "metadata": {
            "tags": []
          }
        }
      ]
    },
    {
      "metadata": {
        "id": "mzBsNoFTAj5G",
        "colab_type": "code",
        "colab": {
          "base_uri": "https://localhost:8080/",
          "height": 50
        },
        "outputId": "ef925845-d030-4974-d6b5-a69b61230d5a"
      },
      "cell_type": "code",
      "source": [
        "#reshaping data to use in convolution\n",
        "train_x = train_x.reshape(-1,28,28,1)\n",
        "test_x = test_x.reshape(-1,28,28,1)\n",
        "print(train_x.shape)\n",
        "print(test_x.shape)\n",
        "x = tf.placeholder(\"float\",[None,28,28,1])\n",
        "y = tf.placeholder(\"float\",[None,10])\n"
      ],
      "execution_count": 4,
      "outputs": [
        {
          "output_type": "stream",
          "text": [
            "(60000, 28, 28, 1)\n",
            "(10000, 28, 28, 1)\n"
          ],
          "name": "stdout"
        }
      ]
    },
    {
      "metadata": {
        "id": "C8mpE7TabLP9",
        "colab_type": "text"
      },
      "cell_type": "markdown",
      "source": [
        "#  Define the model"
      ]
    },
    {
      "metadata": {
        "id": "339Bi47kbQT9",
        "colab_type": "code",
        "colab": {}
      },
      "cell_type": "code",
      "source": [
        "def conv2d(x,w,b,strides = 1):\n",
        "    x = tf.nn.conv2d(x,w,strides=[1,strides,strides,1],padding = 'SAME')\n",
        "    x = tf.nn.bias_add(x,b)\n",
        "    return tf.nn.softmax(x)\n",
        "\n",
        "def maxpool2d(x, k=2):\n",
        "    return tf.nn.max_pool(x,ksize=[1,k,k,1],strides=[1,k,k,1],padding = 'SAME')\n",
        "    "
      ],
      "execution_count": 0,
      "outputs": []
    },
    {
      "metadata": {
        "id": "wxn3xXunbU__",
        "colab_type": "code",
        "colab": {}
      },
      "cell_type": "code",
      "source": [
        "n_classes = 10\n",
        "n_input = 28\n",
        "weights = {\n",
        "    'wc1': tf.get_variable('W0', shape=(3,3,1,32), initializer=tf.contrib.layers.xavier_initializer()), \n",
        "    'wc2': tf.get_variable('W1', shape=(3,3,32,64), initializer=tf.contrib.layers.xavier_initializer()), \n",
        "    'wc3': tf.get_variable('W2', shape=(3,3,64,128), initializer=tf.contrib.layers.xavier_initializer()), \n",
        "    'wd1': tf.get_variable('W3', shape=(4*4*128,128), initializer=tf.contrib.layers.xavier_initializer()), \n",
        "    'out': tf.get_variable('W4', shape=(128,n_classes), initializer=tf.contrib.layers.xavier_initializer()), \n",
        "}\n",
        "\n",
        "bias = {\n",
        "    'bc0':tf.get_variable('B0', shape=(32),initializer = tf.contrib.layers.xavier_initializer()),\n",
        "    'bc2':tf.get_variable('B1', shape=(64),initializer = tf.contrib.layers.xavier_initializer()),\n",
        "    'bc3':tf.get_variable('B2', shape=(128),initializer = tf.contrib.layers.xavier_initializer()),\n",
        "    'bd1':tf.get_variable('B3', shape=(128),initializer = tf.contrib.layers.xavier_initializer()),\n",
        "     'out':tf.get_variable('B4', shape=(10),initializer = tf.contrib.layers.xavier_initializer())\n",
        "}\n",
        "\n",
        "    \n"
      ],
      "execution_count": 0,
      "outputs": []
    },
    {
      "metadata": {
        "id": "DmM-kMuabXUn",
        "colab_type": "code",
        "colab": {}
      },
      "cell_type": "code",
      "source": [
        "def mn_conv(x,weights,bias):\n",
        "    #first layer of convolution \n",
        "    conv1 = conv2d(x,weights['wc1'],bias['bc0'])\n",
        "    #pooling layer \n",
        "    pool1 = maxpool2d(conv1)\n",
        "    #second layer of convolution \n",
        "    conv2 = conv2d(pool1,weights['wc2'],bias['bc2'])\n",
        "    #pooling layer \n",
        "    pool2 = maxpool2d(conv2)\n",
        "    #third layer of conolution \n",
        "    conv3 = conv2d(pool2, weights['wc3'],bias['bc3'])\n",
        "    #pooling layer \n",
        "    pool3 = maxpool2d(conv3)\n",
        "    #flatining the output for dense layer input \n",
        "    den_inp = tf.reshape(pool3,[-1,weights['wd1'].get_shape().as_list()[0]])\n",
        "    #the y = wx + b output \n",
        "    y = tf.add(tf.matmul(den_inp,weights['wd1']),bias['bd1'])\n",
        "    #ReLU layer \n",
        "    rel = tf.nn.relu(y)\n",
        "    #output , class prediction , second dense layer \n",
        "    den_2_inp = tf.add(tf.matmul(y,weights['out']),bias['out'])\n",
        "    #return den_2_inp as output\n",
        "    print(\"smaple {}\".format(x))\n",
        "    return den_2_inp\n",
        "    "
      ],
      "execution_count": 0,
      "outputs": []
    },
    {
      "metadata": {
        "id": "oLZKBtCDbeme",
        "colab_type": "text"
      },
      "cell_type": "markdown",
      "source": [
        "\n",
        "# Define Loss function & Optimizer"
      ]
    },
    {
      "metadata": {
        "id": "ZJbA_WEnbgYA",
        "colab_type": "code",
        "colab": {
          "base_uri": "https://localhost:8080/",
          "height": 188
        },
        "outputId": "8efa4e98-0183-4a61-a7d5-7085d3c064bf"
      },
      "cell_type": "code",
      "source": [
        "training_iters = 30\n",
        "Lr_rate = 0.002\n",
        "batch_size = 120\n",
        "\n",
        "initilize = mn_conv(x,weights,bias)\n",
        "cost = tf.reduce_mean(tf.nn.softmax_cross_entropy_with_logits(logits = initilize,labels = y))\n",
        "optimizer = tf.train.AdamOptimizer(learning_rate = Lr_rate).minimize(cost)"
      ],
      "execution_count": 8,
      "outputs": [
        {
          "output_type": "stream",
          "text": [
            "smaple Tensor(\"Placeholder:0\", shape=(?, 28, 28, 1), dtype=float32)\n",
            "WARNING:tensorflow:From <ipython-input-8-1dbaf4fb70bf>:6: softmax_cross_entropy_with_logits (from tensorflow.python.ops.nn_ops) is deprecated and will be removed in a future version.\n",
            "Instructions for updating:\n",
            "\n",
            "Future major versions of TensorFlow will allow gradients to flow\n",
            "into the labels input on backprop by default.\n",
            "\n",
            "See `tf.nn.softmax_cross_entropy_with_logits_v2`.\n",
            "\n"
          ],
          "name": "stdout"
        }
      ]
    },
    {
      "metadata": {
        "id": "ee9Eor5gbtZQ",
        "colab_type": "text"
      },
      "cell_type": "markdown",
      "source": [
        "# Optimize and Evaluate the Model"
      ]
    },
    {
      "metadata": {
        "id": "r-knrybgbwxx",
        "colab_type": "code",
        "colab": {}
      },
      "cell_type": "code",
      "source": [
        "correct_prediction = tf.equal(tf.argmax(initilize,1),tf.argmax(y,1))\n",
        "tt = tf.argmax(initilize,1)\n",
        "accuracy = tf.reduce_mean(tf.cast(correct_prediction , tf.float32))"
      ],
      "execution_count": 0,
      "outputs": []
    },
    {
      "metadata": {
        "id": "kmctmPZcbzLE",
        "colab_type": "code",
        "colab": {
          "base_uri": "https://localhost:8080/",
          "height": 952
        },
        "outputId": "6f0d1791-389c-48e7-84a8-c7765f8508e4"
      },
      "cell_type": "code",
      "source": [
        "saver = tf.train.Saver()\n",
        "init = tf.global_variables_initializer()\n",
        "#init_op = tf.initialize_all_variables()\n",
        "bt_size = len(train_x)//batch_size\n",
        "with tf.Session() as sess:\n",
        "    sess.run(init)\n",
        "    train_loss = []\n",
        "    test_loss = []\n",
        "    train_accuracy = []\n",
        "    test_accuracy = []\n",
        "    summary_writer = tf.summary.FileWriter('./Output', sess.graph)\n",
        "    print(\"Training.....\")\n",
        "    for i in range(training_iters):\n",
        "        for batch in range(bt_size):\n",
        "            batch_x = train_x[batch*batch_size:min((batch+1)*batch_size,len(train_x))]\n",
        "            batch_y = train_y[batch*batch_size:min((batch+1)*batch_size,len(train_y))]\n",
        "            opt = sess.run(optimizer, feed_dict = {x:batch_x, y:batch_y})\n",
        "            loss, acc = sess.run([cost, accuracy], feed_dict = {x:batch_x, y:batch_y})\n",
        "            if(batch%500==0):\n",
        "                print(\"Iter \" + str(i) + \", Loss= \" + \\\n",
        "                      \"{:.6f}\".format(loss) + \", Training Accuracy= \" + \\\n",
        "                        \"{:.5f}\".format(acc))\n",
        "    save_path = saver.save(sess, \"/tmp/model.ckpt\")\n",
        "    print(\"Model saved in path: %s\" % save_path)\n",
        "    print(\"Training Complete\")\n",
        "    #testing with test_data\n",
        "    op_test = sess.run(tt,feed_dict={x: test_x,y : test_y})\n",
        "    figsubpre(test_x,test_y,op_test)\n",
        "    test_acc,valid_loss = sess.run([accuracy,cost], feed_dict={x: test_x,y : test_y}) \n",
        "    \n",
        "    summary_writer.close()"
      ],
      "execution_count": 10,
      "outputs": [
        {
          "output_type": "stream",
          "text": [
            "Training.....\n",
            "Iter 0, Loss= 2.312573, Training Accuracy= 0.10000\n",
            "Iter 1, Loss= 0.037416, Training Accuracy= 0.98333\n",
            "Iter 2, Loss= 0.041301, Training Accuracy= 0.99167\n",
            "Iter 3, Loss= 0.034545, Training Accuracy= 0.99167\n",
            "Iter 4, Loss= 0.024625, Training Accuracy= 0.98333\n",
            "Iter 5, Loss= 0.011166, Training Accuracy= 1.00000\n",
            "Iter 6, Loss= 0.005662, Training Accuracy= 1.00000\n",
            "Iter 7, Loss= 0.002644, Training Accuracy= 1.00000\n",
            "Iter 8, Loss= 0.032904, Training Accuracy= 0.99167\n",
            "Iter 9, Loss= 0.002189, Training Accuracy= 1.00000\n",
            "Iter 10, Loss= 0.000148, Training Accuracy= 1.00000\n",
            "Iter 11, Loss= 0.000125, Training Accuracy= 1.00000\n",
            "Iter 12, Loss= 0.005741, Training Accuracy= 1.00000\n",
            "Iter 13, Loss= 0.001804, Training Accuracy= 1.00000\n",
            "Iter 14, Loss= 0.000365, Training Accuracy= 1.00000\n",
            "Iter 15, Loss= 0.000147, Training Accuracy= 1.00000\n",
            "Iter 16, Loss= 0.000145, Training Accuracy= 1.00000\n",
            "Iter 17, Loss= 0.001209, Training Accuracy= 1.00000\n",
            "Iter 18, Loss= 0.001360, Training Accuracy= 1.00000\n",
            "Iter 19, Loss= 0.000165, Training Accuracy= 1.00000\n",
            "Iter 20, Loss= 0.000987, Training Accuracy= 1.00000\n",
            "Iter 21, Loss= 0.000170, Training Accuracy= 1.00000\n",
            "Iter 22, Loss= 0.000833, Training Accuracy= 1.00000\n",
            "Iter 23, Loss= 0.000050, Training Accuracy= 1.00000\n",
            "Iter 24, Loss= 0.000235, Training Accuracy= 1.00000\n",
            "Iter 25, Loss= 0.000032, Training Accuracy= 1.00000\n",
            "Iter 26, Loss= 0.000920, Training Accuracy= 1.00000\n",
            "Iter 27, Loss= 0.000028, Training Accuracy= 1.00000\n",
            "Iter 28, Loss= 0.000908, Training Accuracy= 1.00000\n",
            "Iter 29, Loss= 0.000028, Training Accuracy= 1.00000\n",
            "Model saved in path: /tmp/model.ckpt\n",
            "Training Complete\n"
          ],
          "name": "stdout"
        },
        {
          "output_type": "display_data",
          "data": {
            "image/png": "[encoded data removed]",
            "text/plain": [
              "<matplotlib.figure.Figure at 0x7f95900c5f28>"
            ]
          },
          "metadata": {
            "tags": []
          }
        }
      ]
    },
    {
      "metadata": {
        "id": "5thNhARgb2LU",
        "colab_type": "code",
        "colab": {
          "base_uri": "https://localhost:8080/",
          "height": 34
        },
        "outputId": "c777a0fb-6f6c-447d-f863-2648c261cfdd"
      },
      "cell_type": "code",
      "source": [
        "print(test_acc)"
      ],
      "execution_count": 11,
      "outputs": [
        {
          "output_type": "stream",
          "text": [
            "0.9885\n"
          ],
          "name": "stdout"
        }
      ]
    },
    {
      "metadata": {
        "id": "8_F_NCV1PWWD",
        "colab_type": "code",
        "colab": {}
      },
      "cell_type": "code",
      "source": [
        ""
      ],
      "execution_count": 0,
      "outputs": []
    }
  ]
}